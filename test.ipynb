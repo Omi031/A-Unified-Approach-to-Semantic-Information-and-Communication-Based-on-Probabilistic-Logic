{
 "cells": [
  {
   "cell_type": "code",
   "execution_count": 1,
   "metadata": {},
   "outputs": [],
   "source": [
    "from problog.program import PrologString\n",
    "from problog import get_evaluatable"
   ]
  },
  {
   "cell_type": "code",
   "execution_count": null,
   "metadata": {},
   "outputs": [],
   "source": [
    "model = \"\"\"0.3::a.  query(a).\"\"\"\n",
    "result = get_evaluatable().create_from(PrologString(model)).evaluate()\n",
    "print(result)"
   ]
  },
  {
   "cell_type": "code",
   "execution_count": 6,
   "metadata": {},
   "outputs": [
    {
     "name": "stdout",
     "output_type": "stream",
     "text": [
      "{b: 0.3}\n"
     ]
    }
   ],
   "source": [
    "model = \"\"\"\n",
    "        0.2::a.\n",
    "        0.3::b.\n",
    "        0.5::a :- b.\n",
    "        query(b).\n",
    "        \"\"\"\n",
    "result = get_evaluatable().create_from(PrologString(model)).evaluate()\n",
    "print(result)"
   ]
  },
  {
   "cell_type": "code",
   "execution_count": null,
   "metadata": {},
   "outputs": [],
   "source": [
    "model = \"\"\"\n",
    "        0.25::word(one, \"APPLE\");\n",
    "        0.25::word(one, \"PEACH\");\n",
    "        0.25::word(one, \"MANGO\");\n",
    "        0.25::word(one, \"MELON\").\n",
    "        \n",
    "        \"\"\"\n",
    "result = get_evaluatable().create_from(PrologString(model)).evaluate()\n",
    "print(result)"
   ]
  },
  {
   "cell_type": "code",
   "execution_count": null,
   "metadata": {},
   "outputs": [],
   "source": []
  }
 ],
 "metadata": {
  "kernelspec": {
   "display_name": "StudyVenv",
   "language": "python",
   "name": "python3"
  },
  "language_info": {
   "codemirror_mode": {
    "name": "ipython",
    "version": 3
   },
   "file_extension": ".py",
   "mimetype": "text/x-python",
   "name": "python",
   "nbconvert_exporter": "python",
   "pygments_lexer": "ipython3",
   "version": "3.11.7"
  }
 },
 "nbformat": 4,
 "nbformat_minor": 2
}
